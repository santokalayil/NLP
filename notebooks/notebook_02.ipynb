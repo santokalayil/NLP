{
 "cells": [
  {
   "cell_type": "markdown",
   "metadata": {},
   "source": [
    "# NLP Tasks"
   ]
  },
  {
   "cell_type": "markdown",
   "metadata": {},
   "source": [
    "## 1. Text Classification"
   ]
  },
  {
   "cell_type": "markdown",
   "metadata": {},
   "source": [
    "**Customer Complain Severity Classificatin**: Camtasia Software Forum to report complaints. They prioritize complaints using text classfication - Severe, Mild, etc.\n",
    "\n",
    "```mermaid\n",
    "graph LR;\n",
    "    raw_text[Camtasia 10.0 won't import mp4 file through import media section]\n",
    "    raw_text -- [TF-IDF Vectorizer] --> vector[0.36<br> 0.67<br>0.299<br>0<br>0<br>0.56<br>...<br>0.44]\n",
    "    vector --> classifier{Naive Bayes Classifier} --> High & Medium & Low\n",
    "    High -.-> CustomerCareCall\n",
    "    Low -.-> CreateJIRATicket\n",
    "```\n",
    "\n"
   ]
  },
  {
   "cell_type": "markdown",
   "metadata": {},
   "source": [
    "**Prescription , Patient Record** classfication of scanned document\n",
    "\n",
    "1. Doing OCR on scanner image document\n",
    "2. Google's OCR - Tessereact - conversion of image to text\n",
    "3. Doc2Vec - conversion of text into vectors\n",
    "4. vectors to Logistic Regression Classifier\n",
    "3. Classification of Documents into Prescription or Patient\n",
    "\n",
    "**Hate Speech Detection by Facebook**\n",
    "Facebook is now able to detect Hate speech more accurately\n",
    "\n",
    "**Fake Profile Detection by LinkedIn**\n",
    "Using keywords and past historic data, now they can block fake profiles.\n",
    "\n",
    "## 2. Text Similarity\n",
    "\n",
    "- matching resume with job description - use text similarity to check which resume is matching for respected JD\n",
    "- Sentence Transformers from hugging face can find the simlairyt between texts - https://huggingface.co/spaces/rexoscare/Resume_screener"
   ]
  },
  {
   "cell_type": "markdown",
   "metadata": {},
   "source": [
    "### How it works\n",
    "```mermaid\n",
    "graph TB;\n",
    "    JD[Job Description]\n",
    "    Resume\n",
    "    JD -.-> SE[[Sentence Encoder]]\n",
    "    Resume -.-> SE1[[Sentence Encoder]]\n",
    "    SE -.-> Vector1[45, 12, 45,..., 98]\n",
    "    SE1 -.-> Vector2[41, 10, 7,..., 1.2]\n",
    "    Vector1 & Vector2 -.-> compare{Cosine Similarity}\n",
    "    compare -.-> Percentage(65% Match)\n",
    "\n",
    "```"
   ]
  },
  {
   "cell_type": "markdown",
   "metadata": {},
   "source": [
    "## 3. Information Extraction\n",
    "\n",
    "- Email for flight ticket info - gmail extracts info and shows it on top of the mail - using regex and other methods\n",
    "- Google News: in the news section, we see relevant topics - keywords. so that you can read all the related news based on these topics"
   ]
  },
  {
   "cell_type": "markdown",
   "metadata": {},
   "source": [
    "**Graph from Practical NLP Book - How information extraction flow works**\n",
    "```mermaid\n",
    "graph TB;\n",
    "    raw_text[Raw Text]\n",
    "    raw_text --> sent_ext(Sentence Extraction)\n",
    "    sent_ext --> word_tok(Word Tokenization)\n",
    "    word_tok --> pos_tagging(Part of Speech Tagging) -.-> named_entity_recog[Named Entity Recognition]\n",
    "    word_tok & pos_tagging -.-> kpe[Key Phase Extraction]\n",
    "    pos_tagging --> SP(Syntactic Parsing) --> CR(Coreference Resolution)\n",
    "    SP & CR -.-> ED[Entity Disambiguation]\n",
    "    CR --> REEE[Relation Extraction <br> Event Extraction]\n",
    "```"
   ]
  },
  {
   "cell_type": "markdown",
   "metadata": {},
   "source": [
    "## 4. Information Retrieval\n",
    "There are some simliarity and difference with Information Extraction\n",
    "- in IR, google indexing - Search - a lot of websites - return relevant websites based on sorted order\n",
    "- For this Google uses techniques like: TFID Score, BERT\n",
    "\n",
    "## 5. ChatBots\n",
    "Only if ChatBots cannot solve the issue, then only handing over to human hands\n",
    "- **FAQ bots** - if already there, it will give one of the fixed hardcoded answer\n",
    "- **Flow-Based Bot** - connection between prev dialogue and next dialogue - remembering the context and understading what is being talking about\n",
    "- **Open-Ended Bot** - Simple general chating\n",
    "\n",
    "## 6. Machine Translation\n",
    "- Google traslate: uses encoder-decoder architechure of Recurrent Neural Networks to traslate\n",
    "\n",
    "## 7. Language Modelling\n",
    "Gmail: trying to autocomplete the mail - predition of probability of next set of words.\n",
    "\n",
    "\n",
    "There are two language models\n",
    "1. Statistical Model\n",
    "2. Neural Model\n",
    "\n",
    "## 8. Text Summarization\n",
    "News article - summarize to one single sentence. etc. \n",
    "\n",
    "\n",
    "## 9. Topic Modelling\n",
    "Huge volume of Doucments and have no time to read. so extraction of topics , so that we can save time"
   ]
  },
  {
   "cell_type": "markdown",
   "metadata": {},
   "source": [
    "## 10. Voice Assistance\n",
    "\n",
    "Alexa, Google's VA etc."
   ]
  },
  {
   "cell_type": "markdown",
   "metadata": {},
   "source": []
  },
  {
   "cell_type": "markdown",
   "metadata": {},
   "source": []
  },
  {
   "cell_type": "markdown",
   "metadata": {},
   "source": []
  },
  {
   "cell_type": "markdown",
   "metadata": {},
   "source": []
  },
  {
   "cell_type": "markdown",
   "metadata": {},
   "source": [
    "```mermaid\n",
    "graph LR;\n",
    "    A--> B & C & D;\n",
    "    B--> A & E;\n",
    "    C--> A & E;\n",
    "    D--> A & E;\n",
    "    E--> B & C & D;\n",
    "```"
   ]
  },
  {
   "cell_type": "markdown",
   "metadata": {},
   "source": [
    "```mermaid\n",
    "graph LR;\n",
    "    A--> B & C & D;\n",
    "    B--> A & E;\n",
    "    C--> A & E;\n",
    "    D--> A & E;\n",
    "    E--> B & C & D;\n",
    "```"
   ]
  },
  {
   "cell_type": "markdown",
   "metadata": {},
   "source": []
  }
 ],
 "metadata": {
  "kernelspec": {
   "display_name": "nlp--9r02_gx-py3.10",
   "language": "python",
   "name": "python3"
  },
  "language_info": {
   "name": "python",
   "version": "3.10.10"
  }
 },
 "nbformat": 4,
 "nbformat_minor": 2
}
