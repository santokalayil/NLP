{
 "cells": [
  {
   "cell_type": "markdown",
   "metadata": {},
   "source": [
    "# NLP Tasks"
   ]
  },
  {
   "cell_type": "markdown",
   "metadata": {},
   "source": [
    "## 1. Text Classification"
   ]
  },
  {
   "cell_type": "markdown",
   "metadata": {},
   "source": [
    "**Customer Complain Severity Classificatin**: Camtasia Software Forum to report complaints. They prioritize complaints using text classfication - Severe, Mild, etc.\n",
    "\n",
    "```mermaid\n",
    "graph LR;\n",
    "    raw_text[Camtasia 10.0 won't import mp4 file through import media section]\n",
    "    raw_text -- [TF-IDF Vectorizer] --> vector[0.36<br> 0.67<br>0.299<br>0<br>0<br>0.56<br>...<br>0.44]\n",
    "    vector --> classifier{Naive Bayes Classifier} --> High & Medium & Low\n",
    "    High -.-> CustomerCareCall\n",
    "    Low -.-> CreateJIRATicket\n",
    "```\n",
    "\n"
   ]
  },
  {
   "cell_type": "markdown",
   "metadata": {},
   "source": []
  },
  {
   "cell_type": "markdown",
   "metadata": {},
   "source": [
    "```mermaid\n",
    "graph LR;\n",
    "    A--> B & C & D;\n",
    "    B--> A & E;\n",
    "    C--> A & E;\n",
    "    D--> A & E;\n",
    "    E--> B & C & D;\n",
    "```"
   ]
  },
  {
   "cell_type": "markdown",
   "metadata": {},
   "source": [
    "```mermaid\n",
    "graph LR;\n",
    "    A--> B & C & D;\n",
    "    B--> A & E;\n",
    "    C--> A & E;\n",
    "    D--> A & E;\n",
    "    E--> B & C & D;\n",
    "```"
   ]
  },
  {
   "cell_type": "markdown",
   "metadata": {},
   "source": []
  }
 ],
 "metadata": {
  "kernelspec": {
   "display_name": "nlp--9r02_gx-py3.10",
   "language": "python",
   "name": "python3"
  },
  "language_info": {
   "name": "python",
   "version": "3.10.10"
  }
 },
 "nbformat": 4,
 "nbformat_minor": 2
}
